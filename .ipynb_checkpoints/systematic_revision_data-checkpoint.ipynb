{
 "cells": [
  {
   "cell_type": "code",
   "execution_count": 1,
   "metadata": {},
   "outputs": [],
   "source": [
    "import pandas as pd\n",
    "import matplotlib.pyplot as plt"
   ]
  },
  {
   "cell_type": "code",
   "execution_count": 2,
   "metadata": {},
   "outputs": [],
   "source": [
    "def read_tsvs(*files):\n",
    "    '''\n",
    "    Receive a list of tsv files and joins then in a single pandas Dataframe.\n",
    "    \n",
    "    Args:\n",
    "        files -> list of tsv files\n",
    "    Returns:\n",
    "        pandas Dataframe\n",
    "    '''\n",
    "    \n",
    "    # new name of the columns\n",
    "    cols = [\n",
    "        'bib_key',\n",
    "        'title',\n",
    "        'year',\n",
    "        'url',\n",
    "        'discarted', \n",
    "        'avaliation_method', \n",
    "        'is_app_available',\n",
    "        'apps_used',\n",
    "        'app_category', \n",
    "        'used_testbed',\n",
    "        'devices_used',\n",
    "        'arch_type',\n",
    "        'metrics'\n",
    "    ]\n",
    "    \n",
    "    df_list = []\n",
    "    for f in files:\n",
    "        # reads the dataframe renaming the cols and loads the values\n",
    "        # starting from col 'discarted'\n",
    "        df = pd.read_csv(f, sep='\\t', header=0, names=cols, usecols=cols[4:], lineterminator='\\n')\n",
    "        print('loaded file: ', f)\n",
    "        \n",
    "        df_list.append(df)\n",
    "    \n",
    "    # joina all df in onw\n",
    "    df = pd.concat(df_list, axis=0)\n",
    "    # remove rows where the value of 'discarted' col is NaN\n",
    "    df = df.dropna(subset=['discarted']).reset_index(drop=True)\n",
    "    \n",
    "    return df"
   ]
  },
  {
   "cell_type": "code",
   "execution_count": 3,
   "metadata": {},
   "outputs": [
    {
     "name": "stdout",
     "output_type": "stream",
     "text": [
      "loaded file:  p_01.tsv\n",
      "loaded file:  p_02.tsv\n",
      "loaded file:  p_03.tsv\n",
      "loaded file:  p_04.tsv\n",
      "loaded file:  p_05.tsv\n",
      "loaded file:  p_06.tsv\n"
     ]
    }
   ],
   "source": [
    "df = read_tsvs('p_01.tsv','p_02.tsv','p_03.tsv','p_04.tsv', 'p_05.tsv', 'p_06.tsv')"
   ]
  },
  {
   "cell_type": "code",
   "execution_count": 4,
   "metadata": {
    "scrolled": true
   },
   "outputs": [
    {
     "data": {
      "text/plain": [
       "sim         440\n",
       "não         383\n",
       "ver           2\n",
       "?????         1\n",
       "conteúdo      1\n",
       "Name: discarted, dtype: int64"
      ]
     },
     "execution_count": 4,
     "metadata": {},
     "output_type": "execute_result"
    }
   ],
   "source": [
    "df.discarted = df.discarted.str.lower().str.replace('(\\(|\\,|\\.|-|\\*).*', '').str.strip().str.replace('(\\ ).*', '')\n",
    "df.discarted.value_counts()"
   ]
  },
  {
   "cell_type": "code",
   "execution_count": 5,
   "metadata": {},
   "outputs": [
    {
     "data": {
      "text/plain": [
       "simulação                             119\n",
       "-                                      65\n",
       "aferição                               65\n",
       "modelagem analítica                     9\n",
       "aferiação                               9\n",
       "modelos analíticos                      6\n",
       "simulação e aferição                    6\n",
       "simulação/aferição                      3\n",
       "aferição/simulação                      1\n",
       "simulação (mas não tá muito claro)      1\n",
       "simulação (fogtorchpi)                  1\n",
       "simulação?                              1\n",
       "experimentação                          1\n",
       "Name: avaliation_method, dtype: int64"
      ]
     },
     "execution_count": 5,
     "metadata": {},
     "output_type": "execute_result"
    }
   ],
   "source": [
    "df.avaliation_method.str.lower().value_counts()"
   ]
  },
  {
   "cell_type": "code",
   "execution_count": 6,
   "metadata": {},
   "outputs": [
    {
     "data": {
      "text/plain": [
       "não                                                                        178\n",
       "-                                                                           73\n",
       "sim, open source. disponível no github.                                      6\n",
       "sim. http://openbiometrics.org/ e https://developer.cisco.com/site/iox/      1\n",
       "images processing                                                            1\n",
       "sim!  https://github.com/rmtheis/android-ocr                                 1\n",
       "sim (https://www.netlab.tkk.fi/tutkimus/dtn/theone/)                         1\n",
       "não apresenta o link                                                         1\n",
       "sim (https://www.cloudaware.com/)                                            1\n",
       "sim (http://pros.unicam.it/mobica/)                                          1\n",
       "sim (google play, apple store)                                               1\n",
       "images processing face/eye detection                                         1\n",
       "Name: is_app_available, dtype: int64"
      ]
     },
     "execution_count": 6,
     "metadata": {},
     "output_type": "execute_result"
    }
   ],
   "source": [
    "df.is_app_available.str.lower().value_counts()"
   ]
  },
  {
   "cell_type": "code",
   "execution_count": 7,
   "metadata": {},
   "outputs": [
    {
     "data": {
      "text/plain": [
       "-                                                                                                                                                                                                                          80\n",
       "não detalha                                                                                                                                                                                                                61\n",
       "matlab                                                                                                                                                                                                                      8\n",
       "benchimage                                                                                                                                                                                                                  6\n",
       "nqueens, facedetection. não.                                                                                                                                                                                                6\n",
       "                                                                                                                                                                                                                           ..\n",
       "face, plate e speech applications e ocr application                                                                                                                                                                         1\n",
       "1) we propose aframework to split dnns for image processing and  minimize capture-to-output delay in a wide range of network conditions  and computing parameters. obs: raspberry 3/notebook como  dispositivos móveis.     1\n",
       "pokemon go                                                                                                                                                                                                                  1\n",
       "the range of the number of instructions has been empirically estimated considering an application that processes image  files ranging from 1600×1200 to 4000×3000pixels.                                                    1\n",
       "myphotos                                                                                                                                                                                                                    1\n",
       "Name: apps_used, Length: 142, dtype: int64"
      ]
     },
     "execution_count": 7,
     "metadata": {},
     "output_type": "execute_result"
    }
   ],
   "source": [
    "df.apps_used.str.lower().value_counts()"
   ]
  },
  {
   "cell_type": "code",
   "execution_count": 8,
   "metadata": {},
   "outputs": [
    {
     "data": {
      "text/plain": [
       "-                                                          85\n",
       "não detalha                                                51\n",
       "math                                                       43\n",
       "imagetools                                                 30\n",
       "streaming                                                  13\n",
       "math, imagetools                                            7\n",
       "sem detalhes                                                2\n",
       "imagetools e streaming                                      1\n",
       "imagetools e math                                           1\n",
       "imagetools, math                                            1\n",
       "image tools, math, game                                     1\n",
       "imagetools/casual (?)                                       1\n",
       "ar, math                                                    1\n",
       "math, game, utility                                         1\n",
       "nenhuma específica                                          1\n",
       "realidade aumentada                                         1\n",
       "math, game                                                  1\n",
       "math (crypto, compress) (?)  imagetools (mpegaudio) (?)     1\n",
       "recognition (???)                                           1\n",
       "imagetools/games/casual (?)                                 1\n",
       "utilities                                                   1\n",
       "math/games (?)                                              1\n",
       "não                                                         1\n",
       "video sreaming                                              1\n",
       "gaming/ar                                                   1\n",
       "análise de vídeo                                            1\n",
       "blockchain                                                  1\n",
       "xender (compartilhamento de arquivos)                       1\n",
       "games/casual (?)                                            1\n",
       "imagetools/math                                             1\n",
       "health care                                                 1\n",
       "videotools, gaming                                          1\n",
       "utility                                                     1\n",
       "augumented reality                                          1\n",
       "imagetools/physicssimulations (?)                           1\n",
       "math/imagetools datamining (?)/physicssimulations (?)       1\n",
       "math, utility                                               1\n",
       "video processing                                            1\n",
       "gaming                                                      1\n",
       "imagetools/math/games (?)                                   1\n",
       "health (?)                                                  1\n",
       "                                                            1\n",
       "Name: app_category, dtype: int64"
      ]
     },
     "execution_count": 8,
     "metadata": {},
     "output_type": "execute_result"
    }
   ],
   "source": [
    "df.app_category.str.lower().str.strip().value_counts()"
   ]
  },
  {
   "cell_type": "code",
   "execution_count": 9,
   "metadata": {},
   "outputs": [
    {
     "data": {
      "text/plain": [
       "não                   130\n",
       "-                      66\n",
       "sim, real              23\n",
       "não detalha            15\n",
       "sim, virtual            5\n",
       "equipamentos reais      2\n",
       "não especifica          2\n",
       "não informado           1\n",
       "sim (planetlab)         1\n",
       "não detlha              1\n",
       "virtual                 1\n",
       "Name: used_testbed, dtype: int64"
      ]
     },
     "execution_count": 9,
     "metadata": {},
     "output_type": "execute_result"
    }
   ],
   "source": [
    "df.used_testbed.str.lower().str.strip().str.rstrip(',.').str.replace('.', ',').value_counts()"
   ]
  },
  {
   "cell_type": "code",
   "execution_count": 10,
   "metadata": {},
   "outputs": [],
   "source": [
    "# df[['used_testbed', 'devices_used']].dropna()"
   ]
  },
  {
   "cell_type": "code",
   "execution_count": 11,
   "metadata": {},
   "outputs": [
    {
     "data": {
      "text/plain": [
       "-                                                                                                                            68\n",
       "não detalha                                                                                                                  47\n",
       "2 computadores 2 smartphones em um teste e 20 smartphones em umm segundo teste                                                6\n",
       "1 dispositivo móvel e 1 notebook, ambos reais                                                                                 6\n",
       "100 (simulados, não detalha)                                                                                                  4\n",
       "                                                                                                                             ..\n",
       "6 base stations                                                                                                               1\n",
       "1 smartphone, 1 server                                                                                                        1\n",
       "1 computador, 1 celular                                                                                                       1\n",
       "1 mobile device, 3 cloudlets                                                                                                  1\n",
       "4. um htc g17, um samsung 1997 e um nexus 5 (para formarem uma núvem), além de um laptop intel i5 (atuando como cloudlet)     1\n",
       "Name: devices_used, Length: 138, dtype: int64"
      ]
     },
     "execution_count": 11,
     "metadata": {},
     "output_type": "execute_result"
    }
   ],
   "source": [
    "df.devices_used.str.lower().value_counts()"
   ]
  },
  {
   "cell_type": "code",
   "execution_count": 12,
   "metadata": {},
   "outputs": [
    {
     "data": {
      "text/plain": [
       "-                                                                                                                       65\n",
       "mec                                                                                                                     54\n",
       "edge                                                                                                                    24\n",
       "híbrido                                                                                                                 22\n",
       "mcc                                                                                                                     17\n",
       "single cloudlet                                                                                                         12\n",
       "nuvem                                                                                                                    9\n",
       "cloud                                                                                                                    9\n",
       "cloudlet                                                                                                                 7\n",
       "cloud/cloudlet                                                                                                           6\n",
       "single-cloudlet                                                                                                          5\n",
       "d2d                                                                                                                      5\n",
       "multi-cloudlet                                                                                                           4\n",
       "cloud and multi-cloudlet                                                                                                 2\n",
       "híbrido (ec2 como nuvem e vm no dell optiplex 9010  como edge)                                                           2\n",
       "edge, cloud                                                                                                              2\n",
       "d2d, cloud                                                                                                               2\n",
       "híbrido (1 cloud e 1 edge)                                                                                               2\n",
       "cloud, edge                                                                                                              1\n",
       "mec (2 camadas)                                                                                                          1\n",
       "mec e d2d                                                                                                                1\n",
       "cloudlet - mcc                                                                                                           1\n",
       "edge (1 notebook)                                                                                                        1\n",
       "energy consumption                                                                                                       1\n",
       "híbrido (pc como nuvem e raspberrypi como edge)                                                                          1\n",
       "execution time, energy consumption                                                                                       1\n",
       "cloud, cloudlet                                                                                                          1\n",
       "híbrido (1 cloud e 1 edge) nuvem (2 clouds)                                                                              1\n",
       "cloudlet, cloud                                                                                                          1\n",
       "cloud/cloudlet/d2d                                                                                                       1\n",
       "mec, cloudlet                                                                                                            1\n",
       "multi-edge                                                                                                               1\n",
       "mec (1 servidor na estação base)                                                                                         1\n",
       "adaptativa                                                                                                               1\n",
       "híbrida                                                                                                                  1\n",
       "híbrido (cisco cloud como nuvem e 2 cloudlets como  edge)                                                                1\n",
       "overhead of the system                                                                                                   1\n",
       "d2d, cloud, edge                                                                                                         1\n",
       "mec (1 mec server has sufficient computing capability to process the tasks from users within the current time block)     1\n",
       "híbrido (gcloud como nuvem  e sony vaio como edge)                                                                       1\n",
       "Name: arch_type, dtype: int64"
      ]
     },
     "execution_count": 12,
     "metadata": {},
     "output_type": "execute_result"
    }
   ],
   "source": [
    "df.arch_type.str.lower().value_counts()"
   ]
  },
  {
   "cell_type": "code",
   "execution_count": 13,
   "metadata": {},
   "outputs": [
    {
     "data": {
      "text/plain": [
       "                                         566\n",
       "-                                         65\n",
       "energia                                   45\n",
       "tempo                                     23\n",
       "tempo e energia                           11\n",
       "                                        ... \n",
       "latência                                   1\n",
       "custo do sistema                           1\n",
       "average utility, energia, total delay      1\n",
       "não detalha                                1\n",
       "total energy consumption                   1\n",
       "Name: metrics, Length: 87, dtype: int64"
      ]
     },
     "execution_count": 13,
     "metadata": {},
     "output_type": "execute_result"
    }
   ],
   "source": [
    "df.metrics.str.lower().str.strip().value_counts()"
   ]
  }
 ],
 "metadata": {
  "kernelspec": {
   "display_name": "Python 3.8.1 64-bit ('numpy-env': conda)",
   "language": "python",
   "name": "python38164bitnumpyenvcondaa253a7f1cd524f28ab8b2d3dbeb641b5"
  },
  "language_info": {
   "codemirror_mode": {
    "name": "ipython",
    "version": 3
   },
   "file_extension": ".py",
   "mimetype": "text/x-python",
   "name": "python",
   "nbconvert_exporter": "python",
   "pygments_lexer": "ipython3",
   "version": "3.8.1"
  }
 },
 "nbformat": 4,
 "nbformat_minor": 4
}
